{
 "cells": [
  {
   "cell_type": "markdown",
   "metadata": {},
   "source": [
    "**Exercise 01**\n",
    "\n",
    "`answers.txt` contains students answers of exam questions (each line contains student_id, then answers made by that student)\n",
    "- Write code to read the data from the file, compare students answers to answers key (1 point for each correct answer), then find: \n",
    "\n",
    "    - Means score.\n",
    "    - Id of student of the highest score.\n",
    "    - Id of student of the lowest score.\n",
    "\n",
    "`answerkey = \"B,A,D,D,C,B,D,A,C,C,D,B,A,B,A,C,B,D,A,C,A,A,B,D,D\"`\n",
    "\n",
    "**Hint:** *Try to use numpy arrays*"
   ]
  },
  {
   "cell_type": "code",
   "execution_count": 12,
   "metadata": {},
   "outputs": [
    {
     "data": {
      "text/plain": [
       "0.784"
      ]
     },
     "execution_count": 12,
     "metadata": {},
     "output_type": "execute_result"
    }
   ],
   "source": [
    "#### Your code here\n",
    "import numpy as np\n",
    "answerkey = \"B,A,D,D,C,B,D,A,C,C,D,B,A,B,A,C,B,D,A,C,A,A,B,D,D\"\n",
    "answerkey=np.array(answerkey.split(','))\n",
    "ans=np.loadtxt('answers.txt',delimiter=',', dtype=str)\n",
    "np.mean(ans[:,1:]==answerkey)"
   ]
  },
  {
   "cell_type": "code",
   "execution_count": 23,
   "metadata": {},
   "outputs": [
    {
     "data": {
      "text/plain": [
       "'N00000016'"
      ]
     },
     "execution_count": 23,
     "metadata": {},
     "output_type": "execute_result"
    }
   ],
   "source": [
    "ans[np.argmax(np.sum(ans[:,1:]==answerkey,axis=1)),0]\n",
    "# ans[np.argmin(np.sum(ans[:,1:]==answerkey,axis=1)),0]"
   ]
  },
  {
   "cell_type": "markdown",
   "metadata": {},
   "source": [
    "**Exercise 2** (Optional)\n",
    "\n",
    "- We have a number of files: (2010.txt, 2011.txt, 2012.txt, .. 2020.txt) representing sales of three different items (item1, item2 items) in 12 months (each column represents one item and each line of these files contains three values representing the amount of sales of the related item in that month).\n",
    "- Find the total sale of item1 in all years.\n",
    "\n"
   ]
  },
  {
   "cell_type": "code",
   "execution_count": 29,
   "metadata": {},
   "outputs": [],
   "source": [
    "#### Your code here\n"
   ]
  },
  {
   "cell_type": "markdown",
   "metadata": {},
   "source": [
    "**Exercise 03** (optional)\n",
    "\n",
    " \n",
    "Write code to read data from (data.txt) then find:\n",
    "\n",
    "- Find number of employees in HR.\n",
    "- Find the employee of the maximum number of service years in IT department.\n",
    "\n",
    "**Hint:** *Try to use numpy arrays*"
   ]
  },
  {
   "cell_type": "code",
   "execution_count": null,
   "metadata": {},
   "outputs": [],
   "source": [
    "#### Your code here\n"
   ]
  }
 ],
 "metadata": {
  "kernelspec": {
   "display_name": "Python 3",
   "language": "python",
   "name": "python3"
  },
  "language_info": {
   "codemirror_mode": {
    "name": "ipython",
    "version": 3
   },
   "file_extension": ".py",
   "mimetype": "text/x-python",
   "name": "python",
   "nbconvert_exporter": "python",
   "pygments_lexer": "ipython3",
   "version": "3.8.8"
  }
 },
 "nbformat": 4,
 "nbformat_minor": 2
}
