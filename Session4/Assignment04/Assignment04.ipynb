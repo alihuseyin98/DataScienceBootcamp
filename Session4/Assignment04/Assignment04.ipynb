{
 "cells": [
  {
   "cell_type": "markdown",
   "id": "6ae16a49",
   "metadata": {},
   "source": [
    "**Exercise 01**\n",
    "\n",
    "- Create a 5 by 10 using arange generate array with values from 0 to 50.\n",
    "- Replace all odd numbers in with -1\n"
   ]
  },
  {
   "cell_type": "code",
   "execution_count": null,
   "id": "3c9cb247",
   "metadata": {},
   "outputs": [],
   "source": [
    "#### Your code here\n",
    "import numpy as np\n",
    "arr=np.arange(0, 50).reshape(5,10)"
   ]
  },
  {
   "cell_type": "markdown",
   "id": "1e47c067",
   "metadata": {},
   "source": [
    "**Exercise 02**\n",
    "\n",
    "- We have a number of files: (2010.txt, 2011.txt, 2012.txt, .. 2020.txt) representing sales of three different items (item1, item2 items) in 12 months (each column represents one item and each line of these files contains three values representing the amount of sales of the related item in that month).\n",
    "- Combine all data in one file.\n",
    "- Find the total sale of item1 in all years.\n",
    "\n"
   ]
  },
  {
   "cell_type": "code",
   "execution_count": null,
   "id": "ace023fb",
   "metadata": {},
   "outputs": [],
   "source": [
    "#### Your code here\n"
   ]
  },
  {
   "cell_type": "markdown",
   "id": "4f8b70bb",
   "metadata": {},
   "source": [
    "**Exercise 03**\n",
    "\n",
    " \n",
    "Write code to read data from (data.txt) then find:\n",
    "\n",
    "- Find number of employees in HR.\n",
    "- Find the employee of the maximum number of service years in IT department.\n",
    "\n",
    "**Hint:** *Try to use numpy arrays*"
   ]
  },
  {
   "cell_type": "code",
   "execution_count": null,
   "id": "f008b7a8",
   "metadata": {},
   "outputs": [],
   "source": [
    "#### Your code here\n"
   ]
  }
 ],
 "metadata": {
  "kernelspec": {
   "display_name": "Python 3",
   "language": "python",
   "name": "python3"
  },
  "language_info": {
   "codemirror_mode": {
    "name": "ipython",
    "version": 3
   },
   "file_extension": ".py",
   "mimetype": "text/x-python",
   "name": "python",
   "nbconvert_exporter": "python",
   "pygments_lexer": "ipython3",
   "version": "3.8.8"
  }
 },
 "nbformat": 4,
 "nbformat_minor": 5
}
